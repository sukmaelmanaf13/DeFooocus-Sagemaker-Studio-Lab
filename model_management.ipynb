{
 "cells": [
  {
   "cell_type": "markdown",
   "id": "5f6e72ec-ec8d-4910-a95f-bafd4e3786d1",
   "metadata": {},
   "source": [
    "# Model Management Notebook untuk Fooocus\n",
    "Notebook ini mengasumsikan repositori Fooocus sudah diunduh. Silakan jalankan skrip start.sh setidaknya sekali sebelum mengunduh model.  \n",
    "Anda dapat menggunakan notebook ini saat Fooocus sedang berjalan. Klik tombol \"Refresh All Files\" pada tab Model untuk memuat model baru."
   ]
  },
  {
   "cell_type": "code",
   "execution_count": null,
   "id": "97a9bede-c97f-4aa1-a3f7-9e4624690b3b",
   "metadata": {
    "tags": []
   },
   "outputs": [],
   "source": [
    "# Initialize variables\n",
    "# Run this block first\n",
    "\n",
    "from os import getcwd\n",
    "from os import path\n",
    "\n",
    "HOME_FOLDER = getcwd()\n",
    "print(\"HOME_FOLDER = \" + HOME_FOLDER)\n",
    "\n",
    "TEMP_FOLDER = '/tmp'\n",
    "CKPT_FOLDER = f'{HOME_FOLDER}/Fooocus/models/checkpoints-real-folder'\n",
    "LORA_FOLDER = f'{HOME_FOLDER}/Fooocus/models/loras'\n",
    "\n",
    "print(\"CKPT_FOLDER = \" + CKPT_FOLDER)\n",
    "print(\"LORA_FOLDER = \" + LORA_FOLDER)\n",
    "\n",
    "print('done')"
   ]
  },
  {
   "cell_type": "code",
   "execution_count": null,
   "id": "5cb305c6-fb97-4598-8454-12dea316baea",
   "metadata": {
    "tags": []
   },
   "outputs": [],
   "source": [
    "# Clean up any corrupted files \n",
    "\n",
    "!rm -rf $CKPT_FOLDER/*.corrupted\n",
    "!rm -rf $HOME_FOLDER/Fooocus/*.corrupted"
   ]
  },
  {
   "cell_type": "code",
   "execution_count": null,
   "id": "1c2fba7e-3ea7-4978-8b9e-ae0ac94e4788",
   "metadata": {
    "tags": []
   },
   "outputs": [],
   "source": [
    "# Install a model to permanent storage\n",
    "model_url = 'https://civitai.com/api/download/models/169740?type=Model&format=SafeTensor&size=full&fp=fp16'\n",
    "model_name = 'ZavyChroma.safetensors'\n",
    "# ---\n",
    "\n",
    "get_ipython().system(f'wget -O \"{CKPT_FOLDER}/{model_name}\" \"{model_url}\"')"
   ]
  },
  {
   "cell_type": "code",
   "execution_count": null,
   "id": "abd99414-69c7-4454-8786-e54a49869e10",
   "metadata": {
    "tags": []
   },
   "outputs": [],
   "source": [
    "# Install a model to temporary storage\n",
    "model_url = 'https://civitai.com/api/download/models/275681'\n",
    "model_name = 'OpenDalle.safetensors'\n",
    "# ---\n",
    "\n",
    "if not path.exists(f'{CKPT_FOLDER}/{model_name}'):\n",
    "    get_ipython().system(f'wget -O \"{TEMP_FOLDER}/{model_name}\" \"{model_url}\"')\n",
    "    get_ipython().system(f'ln -s {TEMP_FOLDER}/{model_name} {CKPT_FOLDER}/')\n",
    "else:\n",
    "    print(f'The file {CKPT_FOLDER}/{model_name} already exists')"
   ]
  },
  {
   "cell_type": "code",
   "execution_count": null,
   "id": "fc5f2740-159a-4da4-ac62-0bdea0efb1c3",
   "metadata": {
    "tags": []
   },
   "outputs": [],
   "source": [
    "# Install a LoRA to permanent storage\n",
    "model_url = 'https://civitai.com/api/download/models/137124?type=Model&format=SafeTensor'\n",
    "model_name = 'DreamArt.safetensors'\n",
    "# ---\n",
    "\n",
    "get_ipython().system(f'wget -O \"{LORA_FOLDER}/{model_name}\" \"{model_url}\"')"
   ]
  },
  {
   "cell_type": "code",
   "execution_count": null,
   "id": "6dad024a-8411-4435-9504-d32675d0d286",
   "metadata": {
    "tags": []
   },
   "outputs": [],
   "source": [
    "# Install a LoRA to temporary storage\n",
    "model_url = 'https://civitai.com/api/download/models/152309?type=Model&format=SafeTensor'\n",
    "model_name = 'xl_more_art-full.safetensors'\n",
    "# ---\n",
    "\n",
    "if not path.exists(f'{LORA_FOLDER}/{model_name}'):\n",
    "    get_ipython().system(f'wget -O \"{TEMP_FOLDER}/{model_name}\" \"{model_url}\"')\n",
    "    get_ipython().system(f'ln -s {TEMP_FOLDER}/{model_name} {LORA_FOLDER}/')\n",
    "else:\n",
    "    print(f'The file {LORA_FOLDER}/{model_name} already exists')"
   ]
  },
  {
   "cell_type": "code",
   "execution_count": null,
   "id": "dd34d42e-dbc5-4b6f-8241-0511a6ff2f0f",
   "metadata": {},
   "outputs": [],
   "source": [
    "# Delete links to temporary models. Run this before closing the runtime session to avoid having broken links in the next run\n",
    "get_ipython().system(f'find {CKPT_FOLDER} -maxdepth 1 -type l -delete') # delete any symlinks to temp models \n",
    "get_ipython().system(f'find {LORA_FOLDER} -maxdepth 1 -type l -delete') # delete any symlinks to temp loras "
   ]
  },
  {
   "cell_type": "code",
   "execution_count": null,
   "id": "9ebfb46f-3e52-4526-890f-9a0b41ff80ef",
   "metadata": {
    "tags": []
   },
   "outputs": [],
   "source": [
    "# Find large files in permanent storage\n",
    "!find ~ -size +1G"
   ]
  },
  {
   "cell_type": "markdown",
   "id": "dab1e5a7-3a5e-49ad-99e6-65d1dd57dce9",
   "metadata": {},
   "source": [
    "\n",
    "# Delete the installation for a clean reinstall"
   ]
  },
  {
   "cell_type": "code",
   "execution_count": null,
   "id": "e78dccab-1e8b-4535-b318-c9bb078f4455",
   "metadata": {
    "tags": []
   },
   "outputs": [],
   "source": [
    "# Delete the Installation\n",
    "!rm -rf ~/.conda/envs/fooocus\n",
    "!rm -rf /tmp/fooocus_env\n",
    "print(\"done\")"
   ]
  },
  {
   "cell_type": "markdown",
   "id": "ad49d9b5",
   "metadata": {},
   "source": [
    "\n",
    "# Check HDD SageMaker"
   ]
  },
  {
   "cell_type": "code",
   "execution_count": null,
   "id": "82920b99",
   "metadata": {},
   "outputs": [],
   "source": [
    "!df -h | grep -E 'Avail|home'"
   ]
  }
 ],
 "metadata": {
  "kernelspec": {
   "display_name": "sagemaker-distribution:Python",
   "language": "python",
   "name": "conda-env-sagemaker-distribution-py"
  },
  "language_info": {
   "codemirror_mode": {
    "name": "ipython",
    "version": 3
   },
   "file_extension": ".py",
   "mimetype": "text/x-python",
   "name": "python",
   "nbconvert_exporter": "python",
   "pygments_lexer": "ipython3",
   "version": "3.8.17"
  }
 },
 "nbformat": 4,
 "nbformat_minor": 5
}
